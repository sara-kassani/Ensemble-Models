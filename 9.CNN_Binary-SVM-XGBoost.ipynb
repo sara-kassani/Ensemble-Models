{
 "cells": [
  {
   "cell_type": "code",
   "execution_count": 1,
   "metadata": {},
   "outputs": [],
   "source": [
    "import warnings\n",
    "warnings.filterwarnings('always')\n",
    "warnings.filterwarnings('ignore')"
   ]
  },
  {
   "cell_type": "code",
   "execution_count": 2,
   "metadata": {},
   "outputs": [
    {
     "name": "stderr",
     "output_type": "stream",
     "text": [
      "Using TensorFlow backend.\n"
     ]
    }
   ],
   "source": [
    "import glob\n",
    "import numpy as np\n",
    "from PIL import Image\n",
    "from sklearn.model_selection import train_test_split\n",
    "\n",
    "from keras.models import Sequential\n",
    "from keras.models import Model\n",
    "from keras.layers import Activation, Conv2D, MaxPooling2D, Flatten, Dropout,Dense,LeakyReLU\n",
    "from keras.layers.core import Activation, Dense\n",
    "from keras.utils import np_utils\n",
    "from keras.preprocessing.image import ImageDataGenerator\n",
    "from keras.optimizers import *\n",
    "from keras import optimizers\n",
    "from keras.models import load_model\n",
    "\n",
    "\n",
    "from sklearn.svm import SVC\n",
    "import xgboost as xgb"
   ]
  },
  {
   "cell_type": "code",
   "execution_count": 3,
   "metadata": {},
   "outputs": [
    {
     "name": "stdout",
     "output_type": "stream",
     "text": [
      "(207, 256, 256, 3)\n"
     ]
    }
   ],
   "source": [
    "filelist = glob.glob('data/train/malignant/*.png')\n",
    "malignant = np.array([np.array(Image.open(fname)) for fname in filelist])\n",
    "print(malignant.shape)"
   ]
  },
  {
   "cell_type": "code",
   "execution_count": 4,
   "metadata": {},
   "outputs": [
    {
     "name": "stdout",
     "output_type": "stream",
     "text": [
      "(981, 256, 256, 3)\n"
     ]
    }
   ],
   "source": [
    "filelist = glob.glob('data/train/benign/*.png') \n",
    "benign = np.array([np.array(Image.open(fname)) for fname in filelist])\n",
    "print(benign.shape)"
   ]
  },
  {
   "cell_type": "code",
   "execution_count": 5,
   "metadata": {},
   "outputs": [
    {
     "name": "stdout",
     "output_type": "stream",
     "text": [
      "(1188, 256, 256, 3)\n",
      "(256, 256, 3)\n"
     ]
    }
   ],
   "source": [
    "X = np.concatenate((malignant,benign),axis=0)\n",
    "print(X.shape)\n",
    "print(X[1,:].shape)"
   ]
  },
  {
   "cell_type": "code",
   "execution_count": 6,
   "metadata": {},
   "outputs": [
    {
     "name": "stdout",
     "output_type": "stream",
     "text": [
      "(1188,)\n"
     ]
    }
   ],
   "source": [
    "malignantY = np.array([1 for i in range(207)])\n",
    "benignY = np.array([0 for i in range(981)])\n",
    "y = np.concatenate((malignantY,benignY),axis=0)\n",
    "print(y.shape)"
   ]
  },
  {
   "cell_type": "code",
   "execution_count": 7,
   "metadata": {},
   "outputs": [
    {
     "name": "stdout",
     "output_type": "stream",
     "text": [
      "(950, 256, 256, 3) (238, 256, 256, 3) (950,) (238,)\n",
      "[0 0 0 1 0 0 0 0 0 0 0 0 0 0 0 1 0 0 0 0 0 0 0 1 0 0 0 0 1 0 0 1 0 0 0 1 0\n",
      " 0 0 0 0 0 0 0 0 1 0 0 1 0 1 0 0 1 0 1 0 0 1 0 0 1 0 0 0 0 0 0 0 0 0 1 1 0\n",
      " 0 0 0 0 0 1 0 0 0 1 0 0 0 0 0 0 1 0 0 0 1 0 0 0 0 0 1 0 0 0 0 1 0 0 0 0 0\n",
      " 0 0 0 0 1 0 0 0 0 0 0 1 0 0 0 0 0 0 0 0 0 0 1 0 0 0 0 0 0 0 0 0 1 0 0 0 0\n",
      " 0 1 0 1 0 0 0 0 0 0 0 0 1 0 1 0 0 0 0 0 0 0 0 0 0 0 1 0 0 0 1 0 0 0 0 0 0\n",
      " 0 0 0 0 0 0 0 0 0 0 0 0 0 0 0 0 0 0 0 0 0 0 1 0 0 0 1 0 0 0 0 0 0 0 0 0 1\n",
      " 0 1 0 0 0 1 1 0 0 0 1 0 0 0 0 0]\n"
     ]
    }
   ],
   "source": [
    "X_train, X_test, y_train, y_test = train_test_split(X,y,test_size=0.20, random_state=42)\n",
    "print(X_train.shape, X_test.shape, y_train.shape, y_test.shape)\n",
    "print(y_test)"
   ]
  },
  {
   "cell_type": "code",
   "execution_count": 8,
   "metadata": {},
   "outputs": [],
   "source": [
    "model = Sequential()\n",
    "model.add(Conv2D(32, (3,3), padding='same', input_shape=X_train.shape[1:]))\n",
    "\n",
    "model.add(LeakyReLU(alpha=0.))\n",
    "model.add(Dropout(0.02))\n",
    "model.add(Conv2D(32, (3,3),padding='valid'))\n",
    "\n",
    "model.add(LeakyReLU(alpha=0.05))\n",
    "model.add(Dropout(0.02))\n",
    "model.add(MaxPooling2D(pool_size=(2,2)))\n",
    "\n",
    "model.add(Conv2D(32, (3,3)))\n",
    "\n",
    "model.add(LeakyReLU(alpha=0.05))\n",
    "model.add(Dropout(0.02))\n",
    "model.add(Conv2D(64, (3,3)))\n",
    "\n",
    "model.add(LeakyReLU(alpha=0.05))\n",
    "model.add(Dropout(0.04))\n",
    "model.add(MaxPooling2D(pool_size=(2,2)))\n",
    "\n",
    "model.add(Conv2D(128, (3,3)))\n",
    "\n",
    "model.add(LeakyReLU(alpha=0.05))\n",
    "model.add(Dropout(0.1))\n",
    "model.add(Conv2D(256, (3,3)))\n",
    "\n",
    "model.add(LeakyReLU(alpha=0.05))\n",
    "model.add(Dropout(0.20))\n",
    "model.add(MaxPooling2D(pool_size=(2,2)))\n",
    "\n",
    "model.add(Conv2D(256, (1,1)))\n",
    "\n",
    "model.add(LeakyReLU(alpha=0.05))\n",
    "model.add(Dropout(0.10))\n",
    "\n",
    "model.add(Flatten())\n",
    "model.add(Dense(64))\n",
    "model.add(Activation('sigmoid'))\n",
    "\n",
    "model.add(Dropout(0.3))\n",
    "model.add(Dense(16))\n",
    "model.add(Activation('sigmoid'))\n",
    "\n",
    "model.add(Dropout(0.10))\n",
    "model.add(Dense(2, activation='sigmoid'))\n",
    "\n",
    "# model.summary()"
   ]
  },
  {
   "cell_type": "code",
   "execution_count": 10,
   "metadata": {},
   "outputs": [
    {
     "name": "stdout",
     "output_type": "stream",
     "text": [
      "[1. 0.]\n"
     ]
    }
   ],
   "source": [
    "# X_train = X_train.astype('float32')\n",
    "# X_test = X_test.astype('float32')\n",
    "num_classes = 2\n",
    "y_train = np_utils.to_categorical(y_train, num_classes)\n",
    "y_test = np_utils.to_categorical(y_test, num_classes)\n",
    "\n",
    "datagen = ImageDataGenerator\n",
    "datagen = ImageDataGenerator(featurewise_std_normalization=True)\n",
    "\n",
    "datagen.fit(X_train)\n",
    "print(y_train[0])"
   ]
  },
  {
   "cell_type": "code",
   "execution_count": 11,
   "metadata": {
    "scrolled": false
   },
   "outputs": [
    {
     "name": "stdout",
     "output_type": "stream",
     "text": [
      "Epoch 1/30\n",
      "950/950 [==============================] - 19s 20ms/step - loss: 0.5030 - acc: 0.8026 - val_loss: 0.4395 - val_acc: 0.8403\n",
      "Epoch 2/30\n",
      "950/950 [==============================] - 16s 17ms/step - loss: 0.4776 - acc: 0.8221 - val_loss: 0.4402 - val_acc: 0.8403\n",
      "Epoch 3/30\n",
      "950/950 [==============================] - 15s 16ms/step - loss: 0.4802 - acc: 0.8221 - val_loss: 0.4392 - val_acc: 0.8403\n",
      "Epoch 4/30\n",
      "950/950 [==============================] - 16s 16ms/step - loss: 0.4777 - acc: 0.8216 - val_loss: 0.4400 - val_acc: 0.8403\n",
      "Epoch 5/30\n",
      "950/950 [==============================] - 16s 17ms/step - loss: 0.4764 - acc: 0.8221 - val_loss: 0.4387 - val_acc: 0.8403\n",
      "Epoch 6/30\n",
      "950/950 [==============================] - 16s 16ms/step - loss: 0.4748 - acc: 0.8221 - val_loss: 0.4394 - val_acc: 0.8403\n",
      "Epoch 7/30\n",
      "950/950 [==============================] - 16s 17ms/step - loss: 0.4679 - acc: 0.8221 - val_loss: 0.4397 - val_acc: 0.8403\n",
      "Epoch 8/30\n",
      "950/950 [==============================] - 16s 17ms/step - loss: 0.4672 - acc: 0.8221 - val_loss: 0.4366 - val_acc: 0.8403\n",
      "Epoch 9/30\n",
      "950/950 [==============================] - 15s 16ms/step - loss: 0.4677 - acc: 0.8221 - val_loss: 0.4362 - val_acc: 0.8403\n",
      "Epoch 10/30\n",
      "950/950 [==============================] - 16s 17ms/step - loss: 0.4728 - acc: 0.8221 - val_loss: 0.4367 - val_acc: 0.8403\n",
      "Epoch 11/30\n",
      "950/950 [==============================] - 16s 17ms/step - loss: 0.4701 - acc: 0.8221 - val_loss: 0.4395 - val_acc: 0.8403\n",
      "Epoch 12/30\n",
      "950/950 [==============================] - 16s 16ms/step - loss: 0.4663 - acc: 0.8221 - val_loss: 0.4372 - val_acc: 0.8403\n",
      "Epoch 13/30\n",
      "950/950 [==============================] - 16s 17ms/step - loss: 0.4670 - acc: 0.8221 - val_loss: 0.4351 - val_acc: 0.8403\n",
      "Epoch 14/30\n",
      "950/950 [==============================] - 16s 17ms/step - loss: 0.4601 - acc: 0.8221 - val_loss: 0.4514 - val_acc: 0.8403\n",
      "Epoch 15/30\n",
      "950/950 [==============================] - 15s 16ms/step - loss: 0.4589 - acc: 0.8216 - val_loss: 0.4346 - val_acc: 0.8403\n",
      "Epoch 16/30\n",
      "950/950 [==============================] - 16s 16ms/step - loss: 0.4497 - acc: 0.8221 - val_loss: 0.4356 - val_acc: 0.8403\n",
      "Epoch 17/30\n",
      "950/950 [==============================] - 15s 16ms/step - loss: 0.4429 - acc: 0.8221 - val_loss: 0.4359 - val_acc: 0.8403\n",
      "Epoch 18/30\n",
      "950/950 [==============================] - 15s 16ms/step - loss: 0.4370 - acc: 0.8211 - val_loss: 0.4394 - val_acc: 0.8403\n",
      "Epoch 19/30\n",
      "950/950 [==============================] - 16s 17ms/step - loss: 0.4307 - acc: 0.8221 - val_loss: 0.4410 - val_acc: 0.8403\n",
      "Epoch 20/30\n",
      "950/950 [==============================] - 16s 17ms/step - loss: 0.4243 - acc: 0.8221 - val_loss: 0.4365 - val_acc: 0.8403\n",
      "Epoch 21/30\n",
      "950/950 [==============================] - 15s 16ms/step - loss: 0.4226 - acc: 0.8221 - val_loss: 0.4410 - val_acc: 0.8403\n",
      "Epoch 22/30\n",
      "950/950 [==============================] - 15s 16ms/step - loss: 0.4141 - acc: 0.8221 - val_loss: 0.4392 - val_acc: 0.8403\n",
      "Epoch 23/30\n",
      "950/950 [==============================] - 16s 17ms/step - loss: 0.4200 - acc: 0.8221 - val_loss: 0.4440 - val_acc: 0.8403\n",
      "Epoch 24/30\n",
      "950/950 [==============================] - 15s 16ms/step - loss: 0.4157 - acc: 0.8232 - val_loss: 0.4318 - val_acc: 0.8403\n",
      "Epoch 25/30\n",
      "950/950 [==============================] - 59s 62ms/step - loss: 0.4140 - acc: 0.8242 - val_loss: 0.4383 - val_acc: 0.8403\n",
      "Epoch 26/30\n",
      "950/950 [==============================] - 16s 17ms/step - loss: 0.4151 - acc: 0.8226 - val_loss: 0.4337 - val_acc: 0.8403\n",
      "Epoch 27/30\n",
      "950/950 [==============================] - 15s 16ms/step - loss: 0.4042 - acc: 0.8205 - val_loss: 0.4476 - val_acc: 0.8403\n",
      "Epoch 28/30\n",
      "950/950 [==============================] - 16s 16ms/step - loss: 0.4025 - acc: 0.8237 - val_loss: 0.4392 - val_acc: 0.8403\n",
      "Epoch 29/30\n",
      "950/950 [==============================] - 16s 17ms/step - loss: 0.4034 - acc: 0.8232 - val_loss: 0.4361 - val_acc: 0.8403\n",
      "Epoch 30/30\n",
      "950/950 [==============================] - 15s 16ms/step - loss: 0.4063 - acc: 0.8226 - val_loss: 0.4444 - val_acc: 0.8403\n"
     ]
    }
   ],
   "source": [
    "model.compile(optimizer=SGD(0.003),loss=\"binary_crossentropy\",metrics=[\"accuracy\"])\n",
    "history = model.fit_generator(datagen.flow(X_train, y_train, batch_size=1),\n",
    "                        validation_data=(X_test, y_test), steps_per_epoch=len(X_train), epochs=30, verbose=1)"
   ]
  },
  {
   "cell_type": "code",
   "execution_count": 12,
   "metadata": {},
   "outputs": [],
   "source": [
    "model.save('CNN_model.h5')\n",
    "\n",
    "del model  \n",
    "model = load_model('CNN_model.h5')"
   ]
  },
  {
   "cell_type": "code",
   "execution_count": 13,
   "metadata": {},
   "outputs": [
    {
     "name": "stdout",
     "output_type": "stream",
     "text": [
      "238/238 [==============================] - 1s 5ms/step\n",
      "[0.44441030409280996, 0.8403361344537815]\n"
     ]
    }
   ],
   "source": [
    "score = model.evaluate(X_test, y_test, batch_size=1)\n",
    "print(score)"
   ]
  },
  {
   "cell_type": "markdown",
   "metadata": {},
   "source": [
    "# SVM"
   ]
  },
  {
   "cell_type": "code",
   "execution_count": 14,
   "metadata": {},
   "outputs": [
    {
     "name": "stdout",
     "output_type": "stream",
     "text": [
      "(950, 64)\n",
      "(238, 64)\n"
     ]
    }
   ],
   "source": [
    "model_feat = Model(inputs=model.input,outputs=model.get_layer('dense_1').output)\n",
    "\n",
    "feat_train = model_feat.predict(X_train)\n",
    "print(feat_train.shape)\n",
    "\n",
    "feat_val = model_feat.predict(X_test)\n",
    "print(feat_val.shape)"
   ]
  },
  {
   "cell_type": "code",
   "execution_count": 15,
   "metadata": {},
   "outputs": [
    {
     "data": {
      "text/plain": [
       "0.9978947368421053"
      ]
     },
     "execution_count": 15,
     "metadata": {},
     "output_type": "execute_result"
    }
   ],
   "source": [
    "svm = SVC(kernel='rbf')\n",
    "svm.fit(feat_train,np.argmax(y_train,axis=1))\n",
    "\n",
    "svm.score(feat_train,np.argmax(y_train,axis=1))"
   ]
  },
  {
   "cell_type": "code",
   "execution_count": 16,
   "metadata": {},
   "outputs": [
    {
     "data": {
      "text/plain": [
       "0.8403361344537815"
      ]
     },
     "execution_count": 16,
     "metadata": {},
     "output_type": "execute_result"
    }
   ],
   "source": [
    "svm.score(feat_val,np.argmax(y_test,axis=1))"
   ]
  },
  {
   "cell_type": "markdown",
   "metadata": {},
   "source": [
    "# XGBOOST"
   ]
  },
  {
   "cell_type": "code",
   "execution_count": 17,
   "metadata": {},
   "outputs": [
    {
     "data": {
      "text/plain": [
       "0.9726315789473684"
      ]
     },
     "execution_count": 17,
     "metadata": {},
     "output_type": "execute_result"
    }
   ],
   "source": [
    "xb = xgb.XGBClassifier()\n",
    "xb.fit(feat_train,np.argmax(y_train,axis=1))\n",
    "xb.score(feat_train,np.argmax(y_train,axis=1))"
   ]
  },
  {
   "cell_type": "code",
   "execution_count": 18,
   "metadata": {},
   "outputs": [
    {
     "data": {
      "text/plain": [
       "0.8613445378151261"
      ]
     },
     "execution_count": 18,
     "metadata": {},
     "output_type": "execute_result"
    }
   ],
   "source": [
    "xb.score(feat_val,np.argmax(y_test,axis=1))"
   ]
  },
  {
   "cell_type": "code",
   "execution_count": null,
   "metadata": {},
   "outputs": [],
   "source": []
  }
 ],
 "metadata": {
  "kernelspec": {
   "display_name": "Python 3",
   "language": "python",
   "name": "python3"
  },
  "language_info": {
   "codemirror_mode": {
    "name": "ipython",
    "version": 3
   },
   "file_extension": ".py",
   "mimetype": "text/x-python",
   "name": "python",
   "nbconvert_exporter": "python",
   "pygments_lexer": "ipython3",
   "version": "3.5.2"
  }
 },
 "nbformat": 4,
 "nbformat_minor": 2
}
