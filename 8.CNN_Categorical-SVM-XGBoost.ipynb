{
 "cells": [
  {
   "cell_type": "code",
   "execution_count": 1,
   "metadata": {},
   "outputs": [],
   "source": [
    "import warnings\n",
    "warnings.filterwarnings('always')\n",
    "warnings.filterwarnings('ignore')"
   ]
  },
  {
   "cell_type": "code",
   "execution_count": 2,
   "metadata": {},
   "outputs": [
    {
     "name": "stderr",
     "output_type": "stream",
     "text": [
      "Using TensorFlow backend.\n"
     ]
    }
   ],
   "source": [
    "import glob\n",
    "import numpy as np\n",
    "from PIL import Image\n",
    "from sklearn.model_selection import train_test_split\n",
    "\n",
    "from keras.models import Sequential\n",
    "from keras.layers import Activation, Conv2D, MaxPooling2D, Flatten, Dropout,Dense,LeakyReLU\n",
    "from keras.layers.core import Activation, Dense\n",
    "from keras.utils import np_utils\n",
    "from keras.preprocessing.image import ImageDataGenerator\n",
    "from keras.optimizers import *\n",
    "from keras import optimizers\n",
    "from keras.models import load_model"
   ]
  },
  {
   "cell_type": "code",
   "execution_count": 3,
   "metadata": {},
   "outputs": [
    {
     "name": "stdout",
     "output_type": "stream",
     "text": [
      "(207, 256, 256, 3)\n"
     ]
    }
   ],
   "source": [
    "filelist = glob.glob('data/train/malignant/*.png')\n",
    "malignant = np.array([np.array(Image.open(fname)) for fname in filelist])\n",
    "print(malignant.shape)"
   ]
  },
  {
   "cell_type": "code",
   "execution_count": 4,
   "metadata": {},
   "outputs": [
    {
     "name": "stdout",
     "output_type": "stream",
     "text": [
      "(981, 256, 256, 3)\n"
     ]
    }
   ],
   "source": [
    "filelist = glob.glob('data/train/benign/*.png') \n",
    "benign = np.array([np.array(Image.open(fname)) for fname in filelist])\n",
    "print(benign.shape)"
   ]
  },
  {
   "cell_type": "code",
   "execution_count": 5,
   "metadata": {},
   "outputs": [
    {
     "name": "stdout",
     "output_type": "stream",
     "text": [
      "(1188, 256, 256, 3)\n",
      "(256, 256, 3)\n"
     ]
    }
   ],
   "source": [
    "X = np.concatenate((malignant,benign),axis=0)\n",
    "print(X.shape)\n",
    "print(X[1,:].shape)"
   ]
  },
  {
   "cell_type": "code",
   "execution_count": 6,
   "metadata": {},
   "outputs": [
    {
     "name": "stdout",
     "output_type": "stream",
     "text": [
      "(1188,)\n"
     ]
    }
   ],
   "source": [
    "malignantY = np.array([1 for i in range(207)])\n",
    "benignY = np.array([0 for i in range(981)])\n",
    "y = np.concatenate((malignantY,benignY),axis=0)\n",
    "print(y.shape)"
   ]
  },
  {
   "cell_type": "code",
   "execution_count": 7,
   "metadata": {},
   "outputs": [
    {
     "name": "stdout",
     "output_type": "stream",
     "text": [
      "(950, 256, 256, 3) (238, 256, 256, 3) (950,) (238,)\n",
      "[0 0 0 1 0 0 0 0 0 0 0 0 0 0 0 1 0 0 0 0 0 0 0 1 0 0 0 0 1 0 0 1 0 0 0 1 0\n",
      " 0 0 0 0 0 0 0 0 1 0 0 1 0 1 0 0 1 0 1 0 0 1 0 0 1 0 0 0 0 0 0 0 0 0 1 1 0\n",
      " 0 0 0 0 0 1 0 0 0 1 0 0 0 0 0 0 1 0 0 0 1 0 0 0 0 0 1 0 0 0 0 1 0 0 0 0 0\n",
      " 0 0 0 0 1 0 0 0 0 0 0 1 0 0 0 0 0 0 0 0 0 0 1 0 0 0 0 0 0 0 0 0 1 0 0 0 0\n",
      " 0 1 0 1 0 0 0 0 0 0 0 0 1 0 1 0 0 0 0 0 0 0 0 0 0 0 1 0 0 0 1 0 0 0 0 0 0\n",
      " 0 0 0 0 0 0 0 0 0 0 0 0 0 0 0 0 0 0 0 0 0 0 1 0 0 0 1 0 0 0 0 0 0 0 0 0 1\n",
      " 0 1 0 0 0 1 1 0 0 0 1 0 0 0 0 0]\n"
     ]
    }
   ],
   "source": [
    "X_train, X_test, y_train, y_test = train_test_split(X,y,test_size=0.20, random_state=42)\n",
    "print(X_train.shape, X_test.shape, y_train.shape, y_test.shape)\n",
    "print(y_test)"
   ]
  },
  {
   "cell_type": "code",
   "execution_count": 8,
   "metadata": {},
   "outputs": [],
   "source": [
    "model = Sequential()\n",
    "model.add(Conv2D(32, (3,3), padding='same', input_shape=X_train.shape[1:]))\n",
    "\n",
    "model.add(LeakyReLU(alpha=0.))\n",
    "model.add(Dropout(0.02))\n",
    "model.add(Conv2D(32, (3,3),padding='valid'))\n",
    "\n",
    "model.add(LeakyReLU(alpha=0.05))\n",
    "model.add(Dropout(0.02))\n",
    "model.add(MaxPooling2D(pool_size=(2,2)))\n",
    "\n",
    "model.add(Conv2D(32, (3,3)))\n",
    "\n",
    "model.add(LeakyReLU(alpha=0.05))\n",
    "model.add(Dropout(0.02))\n",
    "model.add(Conv2D(64, (3,3)))\n",
    "\n",
    "model.add(LeakyReLU(alpha=0.05))\n",
    "model.add(Dropout(0.04))\n",
    "model.add(MaxPooling2D(pool_size=(2,2)))\n",
    "\n",
    "model.add(Conv2D(128, (3,3)))\n",
    "\n",
    "model.add(LeakyReLU(alpha=0.05))\n",
    "model.add(Dropout(0.1))\n",
    "model.add(Conv2D(256, (3,3)))\n",
    "\n",
    "model.add(LeakyReLU(alpha=0.05))\n",
    "model.add(Dropout(0.20))\n",
    "model.add(MaxPooling2D(pool_size=(2,2)))\n",
    "\n",
    "model.add(Conv2D(256, (1,1)))\n",
    "\n",
    "model.add(LeakyReLU(alpha=0.05))\n",
    "model.add(Dropout(0.10))\n",
    "\n",
    "model.add(Flatten())\n",
    "model.add(Dense(64))\n",
    "model.add(Activation('relu'))\n",
    "\n",
    "model.add(Dropout(0.3))\n",
    "model.add(Dense(16))\n",
    "model.add(Activation('relu'))\n",
    "\n",
    "model.add(Dropout(0.10))\n",
    "model.add(Dense(2, activation='softmax'))\n",
    "\n",
    "# model.summary()"
   ]
  },
  {
   "cell_type": "code",
   "execution_count": 9,
   "metadata": {},
   "outputs": [
    {
     "name": "stdout",
     "output_type": "stream",
     "text": [
      "[1. 0.]\n"
     ]
    }
   ],
   "source": [
    "# X_train = X_train.astype('float32')\n",
    "# X_test = X_test.astype('float32')\n",
    "num_classes = 2\n",
    "y_train = np_utils.to_categorical(y_train, num_classes)\n",
    "y_test = np_utils.to_categorical(y_test, num_classes)\n",
    "\n",
    "datagen = ImageDataGenerator\n",
    "datagen = ImageDataGenerator(featurewise_std_normalization=True)\n",
    "\n",
    "datagen.fit(X_train)\n",
    "print(y_train[0])"
   ]
  },
  {
   "cell_type": "code",
   "execution_count": 10,
   "metadata": {
    "scrolled": false
   },
   "outputs": [
    {
     "name": "stdout",
     "output_type": "stream",
     "text": [
      "Epoch 1/30\n",
      "950/950 [==============================] - 22s 23ms/step - loss: 0.4955 - acc: 0.8221 - val_loss: 0.8726 - val_acc: 0.8403\n",
      "Epoch 2/30\n",
      "950/950 [==============================] - 16s 17ms/step - loss: 0.4764 - acc: 0.8221 - val_loss: 0.7312 - val_acc: 0.8403\n",
      "Epoch 3/30\n",
      "950/950 [==============================] - 16s 17ms/step - loss: 0.4630 - acc: 0.8221 - val_loss: 1.0416 - val_acc: 0.8403\n",
      "Epoch 4/30\n",
      "950/950 [==============================] - 16s 17ms/step - loss: 0.4589 - acc: 0.8221 - val_loss: 0.9051 - val_acc: 0.8403\n",
      "Epoch 5/30\n",
      "950/950 [==============================] - 16s 17ms/step - loss: 0.4504 - acc: 0.8200 - val_loss: 1.4392 - val_acc: 0.8403\n",
      "Epoch 6/30\n",
      "950/950 [==============================] - 16s 17ms/step - loss: 0.4515 - acc: 0.8200 - val_loss: 1.3489 - val_acc: 0.8403\n",
      "Epoch 7/30\n",
      "950/950 [==============================] - 16s 17ms/step - loss: 0.4407 - acc: 0.8221 - val_loss: 2.5476 - val_acc: 0.8403\n",
      "Epoch 8/30\n",
      "950/950 [==============================] - 16s 17ms/step - loss: 0.4352 - acc: 0.8221 - val_loss: 1.7565 - val_acc: 0.8403\n",
      "Epoch 9/30\n",
      "950/950 [==============================] - 16s 16ms/step - loss: 0.4153 - acc: 0.8221 - val_loss: 1.2692 - val_acc: 0.8235\n",
      "Epoch 10/30\n",
      "950/950 [==============================] - 16s 17ms/step - loss: 0.4045 - acc: 0.8284 - val_loss: 9.1554 - val_acc: 0.2395\n",
      "Epoch 11/30\n",
      "950/950 [==============================] - 16s 17ms/step - loss: 0.3906 - acc: 0.8347 - val_loss: 2.5146 - val_acc: 0.8361\n",
      "Epoch 12/30\n",
      "950/950 [==============================] - 16s 17ms/step - loss: 0.3675 - acc: 0.8558 - val_loss: 2.5208 - val_acc: 0.8151\n",
      "Epoch 13/30\n",
      "950/950 [==============================] - 16s 17ms/step - loss: 0.3412 - acc: 0.8537 - val_loss: 2.2777 - val_acc: 0.8193\n",
      "Epoch 14/30\n",
      "950/950 [==============================] - 16s 17ms/step - loss: 0.3232 - acc: 0.8653 - val_loss: 2.6162 - val_acc: 0.8319\n",
      "Epoch 15/30\n",
      "950/950 [==============================] - 16s 17ms/step - loss: 0.2948 - acc: 0.8747 - val_loss: 2.5712 - val_acc: 0.7941\n",
      "Epoch 16/30\n",
      "950/950 [==============================] - 17s 18ms/step - loss: 0.2700 - acc: 0.8905 - val_loss: 2.6204 - val_acc: 0.8277\n",
      "Epoch 17/30\n",
      "950/950 [==============================] - 16s 17ms/step - loss: 0.2589 - acc: 0.8989 - val_loss: 2.6016 - val_acc: 0.7605\n",
      "Epoch 18/30\n",
      "950/950 [==============================] - 16s 17ms/step - loss: 0.1936 - acc: 0.9168 - val_loss: 2.1155 - val_acc: 0.8403\n",
      "Epoch 19/30\n",
      "950/950 [==============================] - 16s 17ms/step - loss: 0.2040 - acc: 0.9137 - val_loss: 2.3660 - val_acc: 0.8151\n",
      "Epoch 20/30\n",
      "950/950 [==============================] - 114s 120ms/step - loss: 0.1668 - acc: 0.9274 - val_loss: 2.5838 - val_acc: 0.8361\n",
      "Epoch 21/30\n",
      "950/950 [==============================] - 24s 25ms/step - loss: 0.1391 - acc: 0.9442 - val_loss: 2.6026 - val_acc: 0.8277\n",
      "Epoch 22/30\n",
      "950/950 [==============================] - 16s 16ms/step - loss: 0.1659 - acc: 0.9421 - val_loss: 2.5476 - val_acc: 0.6765\n",
      "Epoch 23/30\n",
      "950/950 [==============================] - 16s 17ms/step - loss: 0.1197 - acc: 0.9526 - val_loss: 2.6354 - val_acc: 0.8277\n",
      "Epoch 24/30\n",
      "950/950 [==============================] - 16s 17ms/step - loss: 0.1944 - acc: 0.9421 - val_loss: 0.5372 - val_acc: 0.8025\n",
      "Epoch 25/30\n",
      "950/950 [==============================] - 16s 17ms/step - loss: 0.1232 - acc: 0.9526 - val_loss: 0.5359 - val_acc: 0.8193\n",
      "Epoch 26/30\n",
      "950/950 [==============================] - 16s 16ms/step - loss: 0.1091 - acc: 0.9611 - val_loss: 0.7308 - val_acc: 0.7899\n",
      "Epoch 27/30\n",
      "950/950 [==============================] - 16s 17ms/step - loss: 0.0837 - acc: 0.9674 - val_loss: 0.6918 - val_acc: 0.7731\n",
      "Epoch 28/30\n",
      "950/950 [==============================] - 16s 17ms/step - loss: 0.0800 - acc: 0.9695 - val_loss: 0.9880 - val_acc: 0.7983\n",
      "Epoch 29/30\n",
      "950/950 [==============================] - 16s 17ms/step - loss: 0.0543 - acc: 0.9747 - val_loss: 2.0399 - val_acc: 0.8235\n",
      "Epoch 30/30\n",
      "950/950 [==============================] - 16s 17ms/step - loss: 0.0806 - acc: 0.9674 - val_loss: 1.8661 - val_acc: 0.7689\n"
     ]
    }
   ],
   "source": [
    "model.compile(optimizer = SGD(0.003), loss = \"categorical_crossentropy\", metrics = [\"accuracy\"])\n",
    "history = model.fit_generator(datagen.flow(X_train, y_train, batch_size=1),\n",
    "                        validation_data = (X_test, y_test), \n",
    "                        steps_per_epoch = len(X_train), \n",
    "                        epochs=30,\n",
    "                        verbose=1)"
   ]
  },
  {
   "cell_type": "code",
   "execution_count": 11,
   "metadata": {},
   "outputs": [],
   "source": [
    "model.save('CNN_model.h5')\n",
    "\n",
    "del model  \n",
    "model = load_model('CNN_model.h5')"
   ]
  },
  {
   "cell_type": "code",
   "execution_count": 12,
   "metadata": {},
   "outputs": [
    {
     "name": "stdout",
     "output_type": "stream",
     "text": [
      "238/238 [==============================] - 1s 5ms/step\n",
      "[1.866089522826936, 0.7689075630252101]\n"
     ]
    }
   ],
   "source": [
    "score = model.evaluate(X_test, y_test, batch_size=1)\n",
    "print(score)"
   ]
  },
  {
   "cell_type": "markdown",
   "metadata": {},
   "source": [
    "# SVM"
   ]
  },
  {
   "cell_type": "code",
   "execution_count": 13,
   "metadata": {},
   "outputs": [
    {
     "name": "stdout",
     "output_type": "stream",
     "text": [
      "(950, 64)\n",
      "(238, 64)\n"
     ]
    }
   ],
   "source": [
    "from keras.models import Model\n",
    "model_feat = Model(inputs=model.input,outputs=model.get_layer('dense_1').output)\n",
    "\n",
    "feat_train = model_feat.predict(X_train)\n",
    "print(feat_train.shape)\n",
    "\n",
    "feat_val = model_feat.predict(X_test)\n",
    "print(feat_val.shape)"
   ]
  },
  {
   "cell_type": "code",
   "execution_count": 14,
   "metadata": {},
   "outputs": [
    {
     "data": {
      "text/plain": [
       "0.9694736842105263"
      ]
     },
     "execution_count": 14,
     "metadata": {},
     "output_type": "execute_result"
    }
   ],
   "source": [
    "from sklearn.svm import SVC\n",
    "\n",
    "svm = SVC(kernel='rbf')\n",
    "svm.fit(feat_train,np.argmax(y_train,axis=1))\n",
    "\n",
    "svm.score(feat_train,np.argmax(y_train,axis=1))"
   ]
  },
  {
   "cell_type": "code",
   "execution_count": 15,
   "metadata": {},
   "outputs": [
    {
     "data": {
      "text/plain": [
       "0.8613445378151261"
      ]
     },
     "execution_count": 15,
     "metadata": {},
     "output_type": "execute_result"
    }
   ],
   "source": [
    "svm.score(feat_val,np.argmax(y_test,axis=1))"
   ]
  },
  {
   "cell_type": "markdown",
   "metadata": {},
   "source": [
    "# XGBOOST"
   ]
  },
  {
   "cell_type": "code",
   "execution_count": 16,
   "metadata": {},
   "outputs": [
    {
     "data": {
      "text/plain": [
       "0.9578947368421052"
      ]
     },
     "execution_count": 16,
     "metadata": {},
     "output_type": "execute_result"
    }
   ],
   "source": [
    "import xgboost as xgb\n",
    "\n",
    "xb = xgb.XGBClassifier()\n",
    "\n",
    "xb.fit(feat_train,np.argmax(y_train,axis=1))\n",
    "\n",
    "xb.score(feat_train,np.argmax(y_train,axis=1))"
   ]
  },
  {
   "cell_type": "code",
   "execution_count": 17,
   "metadata": {},
   "outputs": [
    {
     "data": {
      "text/plain": [
       "0.8613445378151261"
      ]
     },
     "execution_count": 17,
     "metadata": {},
     "output_type": "execute_result"
    }
   ],
   "source": [
    "xb.score(feat_val,np.argmax(y_test,axis=1))"
   ]
  },
  {
   "cell_type": "code",
   "execution_count": null,
   "metadata": {},
   "outputs": [],
   "source": []
  },
  {
   "cell_type": "code",
   "execution_count": null,
   "metadata": {},
   "outputs": [],
   "source": []
  }
 ],
 "metadata": {
  "kernelspec": {
   "display_name": "Python 3",
   "language": "python",
   "name": "python3"
  },
  "language_info": {
   "codemirror_mode": {
    "name": "ipython",
    "version": 3
   },
   "file_extension": ".py",
   "mimetype": "text/x-python",
   "name": "python",
   "nbconvert_exporter": "python",
   "pygments_lexer": "ipython3",
   "version": "3.5.2"
  }
 },
 "nbformat": 4,
 "nbformat_minor": 2
}
