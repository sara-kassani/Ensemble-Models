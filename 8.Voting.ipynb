{
 "cells": [
  {
   "cell_type": "code",
   "execution_count": 1,
   "metadata": {},
   "outputs": [
    {
     "name": "stderr",
     "output_type": "stream",
     "text": [
      "Using TensorFlow backend.\n"
     ]
    },
    {
     "name": "stdout",
     "output_type": "stream",
     "text": [
      "2.2.4\n"
     ]
    }
   ],
   "source": [
    "%matplotlib inline\n",
    "import matplotlib.pyplot as plt\n",
    "\n",
    "from keras.preprocessing.image import ImageDataGenerator\n",
    "from keras.models import Sequential\n",
    "from keras.layers import Conv2D, MaxPooling2D\n",
    "from keras.layers import Activation, Dropout, Flatten, Dense\n",
    "from keras import backend as K\n",
    "from keras.models import model_from_json\n",
    "import numpy as np\n",
    "from keras.preprocessing import image\n",
    "from keras.applications.resnet50 import preprocess_input, decode_predictions\n",
    "from keras.optimizers import SGD\n",
    "\n",
    "from xgboost import XGBClassifier\n",
    "from sklearn.pipeline import Pipeline\n",
    "\n",
    "from sklearn.metrics import accuracy_score\n",
    "\n",
    "from sklearn.ensemble import VotingClassifier\n",
    "from sklearn.svm import SVC\n",
    "from sklearn.linear_model import SGDClassifier\n",
    "\n",
    "import os\n",
    "import keras\n",
    "print (keras.__version__)\n",
    "\n",
    "import cv2"
   ]
  },
  {
   "cell_type": "code",
   "execution_count": 2,
   "metadata": {},
   "outputs": [
    {
     "name": "stdout",
     "output_type": "stream",
     "text": [
      "386\n"
     ]
    }
   ],
   "source": [
    "# Doing some configuration\n",
    "img_width, img_height = 100,100\n",
    "# Dir for train and test\n",
    "train_data_dir = 'data_reduced/train'\n",
    "validation_data_dir = 'data_reduced/test'\n",
    "nb_train_samples = 386\n",
    "nb_validation_samples = 155\n",
    "epochs = 1\n",
    "running_times = 1\n",
    "batch_size = (nb_train_samples // epochs) * running_times\n",
    "print (batch_size)\n",
    "input_shape = None\n",
    "if K.image_data_format() == 'channels_first':\n",
    "    input_shape = (3, img_width, img_height)\n",
    "else:\n",
    "    input_shape = (img_width, img_height, 3)    "
   ]
  },
  {
   "cell_type": "code",
   "execution_count": 3,
   "metadata": {},
   "outputs": [
    {
     "name": "stdout",
     "output_type": "stream",
     "text": [
      "Found 386 images belonging to 2 classes.\n",
      "Found 155 images belonging to 2 classes.\n"
     ]
    }
   ],
   "source": [
    "generator = ImageDataGenerator(\n",
    "    featurewise_center=False,\n",
    "    samplewise_center=False,\n",
    "    featurewise_std_normalization=False,\n",
    "    samplewise_std_normalization=False,\n",
    "    zca_whitening=False,\n",
    "    rotation_range=0.,\n",
    "    width_shift_range=0.,\n",
    "    height_shift_range=0.,\n",
    "    shear_range=0.,\n",
    "    zoom_range=0.,\n",
    "    channel_shift_range=0.,\n",
    "    fill_mode='nearest',\n",
    "    cval=0.,\n",
    "    horizontal_flip=False,\n",
    "    vertical_flip=False,\n",
    "    rescale=None,\n",
    "    preprocessing_function=None,\n",
    "    data_format=K.image_data_format())\n",
    "\n",
    "train_generator = generator.flow_from_directory(\n",
    "    train_data_dir,\n",
    "    target_size=(img_width, img_height),\n",
    "    batch_size=nb_train_samples,\n",
    "    class_mode='binary')\n",
    "\n",
    "validation_generator = generator.flow_from_directory(\n",
    "    validation_data_dir,\n",
    "    target_size=(img_width, img_height),\n",
    "    batch_size=nb_validation_samples,\n",
    "    class_mode='binary')"
   ]
  },
  {
   "cell_type": "code",
   "execution_count": 7,
   "metadata": {},
   "outputs": [],
   "source": [
    "class MyClassifier:\n",
    "    def __init__(self):\n",
    "        self.vgg16 = keras.applications.vgg16.VGG16(include_top=False,\n",
    "                                                    weights='imagenet',\n",
    "                                                    input_shape=input_shape)\n",
    "        self.tree = XGBClassifier(max_depth=20, \n",
    "                                  learning_rate=0.001,                                           \n",
    "                                  n_estimators=2000,\n",
    "                                  nthread=8)\n",
    "        \n",
    "        self.svc = SVC(probability=True)\n",
    "        self.sgd = SGDClassifier(loss='log')\n",
    "        self.ensemble = VotingClassifier(estimators=[\n",
    "            ('svm', self.svc),\n",
    "            ('sgd', self.sgd),\n",
    "            ('xgboost', self.tree)\n",
    "        ], voting='soft')\n",
    "    \n",
    "    def __preproc__(self, X):\n",
    "#         X = X / 255.\n",
    "        X = self.vgg16.predict(X)\n",
    "        X = X.reshape([len(X), -1])\n",
    "        return X\n",
    "        \n",
    "    def fit(self, X, y):\n",
    "        X = self.__preproc__(X)\n",
    "        if X is not None:\n",
    "            self.tree.fit(X, y)\n",
    "        \n",
    "    def predict(self, X):\n",
    "        X = self.__preproc__(X)\n",
    "        return self.tree.predict(X)\n",
    "    \n",
    "    def predict_proba(self, X):\n",
    "        X = self.__preproc__(X)\n",
    "        return self.tree.predict_proba(X)\n",
    "    \n",
    "clf = MyClassifier()"
   ]
  },
  {
   "cell_type": "code",
   "execution_count": 8,
   "metadata": {},
   "outputs": [],
   "source": [
    "X_test, y_test = validation_generator.next()"
   ]
  },
  {
   "cell_type": "code",
   "execution_count": 9,
   "metadata": {},
   "outputs": [
    {
     "name": "stdout",
     "output_type": "stream",
     "text": [
      "0.535483870967742\n"
     ]
    }
   ],
   "source": [
    "X, y = train_generator.next()\n",
    "clf.fit(X, y)\n",
    "accuracy = accuracy_score(y_test, clf.predict(X_test))\n",
    "print (accuracy)"
   ]
  },
  {
   "cell_type": "code",
   "execution_count": null,
   "metadata": {},
   "outputs": [],
   "source": []
  }
 ],
 "metadata": {
  "kernelspec": {
   "display_name": "Python 3",
   "language": "python",
   "name": "python3"
  },
  "language_info": {
   "codemirror_mode": {
    "name": "ipython",
    "version": 3
   },
   "file_extension": ".py",
   "mimetype": "text/x-python",
   "name": "python",
   "nbconvert_exporter": "python",
   "pygments_lexer": "ipython3",
   "version": "3.5.2"
  }
 },
 "nbformat": 4,
 "nbformat_minor": 2
}
